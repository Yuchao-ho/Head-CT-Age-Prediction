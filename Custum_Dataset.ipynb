{
  "nbformat": 4,
  "nbformat_minor": 0,
  "metadata": {
    "colab": {
      "provenance": []
    },
    "kernelspec": {
      "name": "python3",
      "display_name": "Python 3"
    },
    "language_info": {
      "name": "python"
    }
  },
  "cells": [
    {
      "cell_type": "markdown",
      "source": [
        "#Construct Custum Dataset\n",
        "\n"
      ],
      "metadata": {
        "id": "hiUzaztDMbXo"
      }
    },
    {
      "cell_type": "code",
      "source": [
        "!pip install -q pydicom numpy matplotlib Pillow\n",
        "import os\n",
        "import cv2\n",
        "import numpy as np\n",
        "import pydicom\n",
        "from PIL import Image\n",
        "import matplotlib.pyplot as plt\n",
        "\n",
        "import torch\n",
        "import pandas as pd\n",
        "from skimage import io, transform\n",
        "import matplotlib.pyplot as plt\n",
        "from torch.utils.data import Dataset, DataLoader\n",
        "from torchvision import transforms, utils"
      ],
      "metadata": {
        "id": "XRpr8eQSRAXI",
        "colab": {
          "base_uri": "https://localhost:8080/"
        },
        "outputId": "55a4eb6d-3da9-49f2-dc81-992c7e67b9a7"
      },
      "execution_count": 1,
      "outputs": [
        {
          "output_type": "stream",
          "name": "stdout",
          "text": [
            "\u001b[?25l     \u001b[90m━━━━━━━━━━━━━━━━━━━━━━━━━━━━━━━━━━━━━━━━\u001b[0m \u001b[32m0.0/1.8 MB\u001b[0m \u001b[31m?\u001b[0m eta \u001b[36m-:--:--\u001b[0m\r\u001b[2K     \u001b[91m━━━━\u001b[0m\u001b[90m╺\u001b[0m\u001b[90m━━━━━━━━━━━━━━━━━━━━━━━━━━━━━━━━━━━\u001b[0m \u001b[32m0.2/1.8 MB\u001b[0m \u001b[31m5.2 MB/s\u001b[0m eta \u001b[36m0:00:01\u001b[0m\r\u001b[2K     \u001b[91m━━━━━━━━━━━━━\u001b[0m\u001b[91m╸\u001b[0m\u001b[90m━━━━━━━━━━━━━━━━━━━━━━━━━━\u001b[0m \u001b[32m0.6/1.8 MB\u001b[0m \u001b[31m8.5 MB/s\u001b[0m eta \u001b[36m0:00:01\u001b[0m\r\u001b[2K     \u001b[91m━━━━━━━━━━━━━━━━━━━━━━━━━\u001b[0m\u001b[90m╺\u001b[0m\u001b[90m━━━━━━━━━━━━━━\u001b[0m \u001b[32m1.1/1.8 MB\u001b[0m \u001b[31m10.4 MB/s\u001b[0m eta \u001b[36m0:00:01\u001b[0m\r\u001b[2K     \u001b[91m━━━━━━━━━━━━━━━━━━━━━━━━━━━━━━━━━━━━━━━\u001b[0m\u001b[91m╸\u001b[0m \u001b[32m1.8/1.8 MB\u001b[0m \u001b[31m12.2 MB/s\u001b[0m eta \u001b[36m0:00:01\u001b[0m\r\u001b[2K     \u001b[90m━━━━━━━━━━━━━━━━━━━━━━━━━━━━━━━━━━━━━━━━\u001b[0m \u001b[32m1.8/1.8 MB\u001b[0m \u001b[31m10.7 MB/s\u001b[0m eta \u001b[36m0:00:00\u001b[0m\n",
            "\u001b[?25h"
          ]
        }
      ]
    },
    {
      "cell_type": "code",
      "source": [
        "def normalize_image(image):\n",
        "    \"\"\"\n",
        "    Normalize image to the range [0, 1].\n",
        "    \"\"\"\n",
        "    image = image - np.min(image)\n",
        "    return image / np.max(image)\n",
        "\n",
        "def GrayScaleToBlueToRedColor(intensity, norm_value):\n",
        "    \"\"\"\n",
        "    intensity: pixel intensity value\n",
        "    norm_value: max value (e.g. 2^8-1)\n",
        "    \"\"\"\n",
        "    value = 4.0 * (float(intensity) / float(norm_value)) + 1\n",
        "\n",
        "    return (\n",
        "        norm_value * np.max([0.0, (3.0 - abs(value - 4) - abs(value - 5)) / 2]),\n",
        "        norm_value * np.max([0.0, (4.0 - abs(value - 2) - abs(value - 4)) / 2]),\n",
        "        norm_value * np.max([0.0, (3.0 - abs(value - 1) - abs(value - 2)) / 2]),\n",
        "    )\n",
        "\n",
        "def GrayImageToColorImage(image):\n",
        "    \"\"\"\n",
        "    image:grayscale image\n",
        "    \"\"\"\n",
        "    image = normalize_image(image)\n",
        "    colored_image = np.zeros([image.shape[0], image.shape[1], 3], dtype=np.uint8)\n",
        "    Imax = np.max(image.ravel())\n",
        "\n",
        "    for i in range(0, image.shape[0]):\n",
        "        for j in range(0, image.shape[1]):\n",
        "            sRGB = GrayScaleToBlueToRedColor(image[i, j], Imax)\n",
        "            colored_image[i, j, 2] = np.floor(sRGB[0]).astype(int)\n",
        "            colored_image[i, j, 1] = np.floor(sRGB[1]).astype(int)\n",
        "            colored_image[i, j, 0] = np.floor(sRGB[2]).astype(int)\n",
        "\n",
        "    return colored_image"
      ],
      "metadata": {
        "id": "8ETW4ZOcWQjf"
      },
      "execution_count": null,
      "outputs": []
    },
    {
      "cell_type": "code",
      "source": [
        "# shape of patient's age is: 33Y, so we need to convert to int\n",
        "def string2age(dcm):\n",
        "  age_list = list(dcm.PatientAge)\n",
        "  age_list = ''.join(age_list[:-1])\n",
        "  return int(age_list)\n",
        "\n",
        "def create_age_mark(based_dir):\n",
        "  age_mark = []\n",
        "  for patient_file in os.listdir(based_dir):\n",
        "    patient_dir = os.path.join(based_dir, patient_file)\n",
        "    dcm_path = os.path.join(patient_dir, os.listdir(patient_dir)[0])\n",
        "    dcm = pydicom.read_file(dcm_path, force= True)\n",
        "    age_mark.append(string2age(dcm))\n",
        "  return age_mark\n",
        "\n",
        "def create_3D_slice(patient_dir):\n",
        "  patient_slice = []\n",
        "\n",
        "  for dcm_file in os.listdir(patient_dir):\n",
        "    dcm_path = os.path.join(patient_dir, dcm_file)\n",
        "    dcm = pydicom.read_file(dcm_path, force= True)\n",
        "    patient_slice.append(dcm)\n",
        "  patient_slice = sorted(patient_slice, key=lambda s: s.SliceLocation)  # sort slices by location\n",
        "\n",
        "  img_shape = list(patient_slice[0].pixel_array.shape)\n",
        "  img_shape.append(3)\n",
        "  img_shape.append((int(len(patient_slice)/3)+1))\n",
        "  slice_3d = np.zeros(img_shape)\n",
        "\n",
        "  for i in range(0, len(patient_slice), 3):       ## Sample slices with step=3\n",
        "      gray_image = patient_slice[i].pixel_array\n",
        "      slice_3d[:,:,:,int(i/3)] = GrayImageToColorImage(gray_image)\n",
        "\n",
        "  return slice_3d"
      ],
      "metadata": {
        "id": "bMKGWFL-bqhq"
      },
      "execution_count": null,
      "outputs": []
    },
    {
      "cell_type": "code",
      "execution_count": null,
      "metadata": {
        "id": "LwJgGFy2MZpH"
      },
      "outputs": [],
      "source": [
        "# to store whole dataset\n",
        "class PatientDataset(Dataset):\n",
        "  def __init__(self, based_dir, transform=None):\n",
        "    self.based_dir = based_dir\n",
        "    self.transform = transform\n",
        "    self.ageMark = create_age_mark(based_dir)\n",
        "\n",
        "  def __len__(self):\n",
        "    return len(self.ageMark)\n",
        "\n",
        "  def __getitem__(self, index):\n",
        "    dir_list = os.listdir(self.based_dir)\n",
        "    patient_dir = os.path.join(self.based_dir, dir_list[index])\n",
        "    patient_slice = create_3D_slice(patient_dir)\n",
        "    agemark = self.ageMark[index]\n",
        "    sample = {'patient': patient_slice, 'agemark': agemark}\n",
        "    if self.transform:\n",
        "      sample = self.transform(sample)\n",
        "\n",
        "    return sample"
      ]
    },
    {
      "cell_type": "code",
      "source": [
        "patient_dataset = PatientDataset(based_dir=\"/content/drive/MyDrive/Experiment_Dataset/\", transform = transforms.ToTensor())\n",
        "for i, sample in enumerate(patient_dataset):\n",
        "    print(i, sample['patient'].shape, sample['agemark'])"
      ],
      "metadata": {
        "colab": {
          "base_uri": "https://localhost:8080/"
        },
        "id": "0Wtdw8ugBl2i",
        "outputId": "16b1256a-1d35-4346-8226-af2b855524f9"
      },
      "execution_count": null,
      "outputs": [
        {
          "output_type": "stream",
          "name": "stdout",
          "text": [
            "0 (512, 512, 3, 23) 78\n",
            "1 (512, 512, 3, 27) 67\n"
          ]
        }
      ]
    },
    {
      "cell_type": "code",
      "source": [],
      "metadata": {
        "id": "GctRGOd7G-aA"
      },
      "execution_count": null,
      "outputs": []
    }
  ]
}