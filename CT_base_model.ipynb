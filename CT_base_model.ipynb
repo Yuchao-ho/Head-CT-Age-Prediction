{
  "nbformat": 4,
  "nbformat_minor": 0,
  "metadata": {
    "colab": {
      "provenance": []
    },
    "kernelspec": {
      "name": "python3",
      "display_name": "Python 3"
    },
    "language_info": {
      "name": "python"
    }
  },
  "cells": [
    {
      "cell_type": "markdown",
      "source": [
        "This is an example of creating a custom dataset for CT scans and predicting age using CNNs.\n",
        "\n",
        "The dataset is similar to ours but much smaller.\n",
        "\n",
        "Link to dataset:\n",
        "https://www.kaggle.com/datasets/kmader/siim-medical-images/data"
      ],
      "metadata": {
        "id": "q0ULPeFjT1IP"
      }
    },
    {
      "cell_type": "code",
      "source": [
        "%%capture\n",
        "!pip install kaggle\n",
        "!pip install pydicom"
      ],
      "metadata": {
        "id": "NVEgL0XUPmbf"
      },
      "execution_count": 1,
      "outputs": []
    },
    {
      "cell_type": "code",
      "execution_count": 2,
      "metadata": {
        "id": "Y0qh1KK2Kkg7"
      },
      "outputs": [],
      "source": [
        "import torch\n",
        "import torch.nn as nn\n",
        "from torchvision.datasets import VOCDetection, CIFAR10\n",
        "import torchvision.transforms as transforms\n",
        "from torch.utils.data import DataLoader, random_split, Dataset\n",
        "import torch.optim as optim\n",
        "import matplotlib.pyplot as plt\n",
        "import os\n",
        "import pandas as pd\n",
        "from PIL import Image\n",
        "import pydicom\n",
        "import numpy as np"
      ]
    },
    {
      "cell_type": "code",
      "source": [
        "from google.colab import userdata\n",
        "\n",
        "# ---\n",
        "# Use yoyr own Kaggle key and username here\n",
        "# ---\n",
        "os.environ[\"KAGGLE_KEY\"] = userdata.get('KAGGLE_KEY')\n",
        "os.environ[\"KAGGLE_USERNAME\"] = userdata.get('KAGGLE_USERNAME')"
      ],
      "metadata": {
        "id": "-_XZNoFEP-bl"
      },
      "execution_count": 3,
      "outputs": []
    },
    {
      "cell_type": "code",
      "source": [
        "!kaggle datasets download -d kmader/siim-medical-images"
      ],
      "metadata": {
        "colab": {
          "base_uri": "https://localhost:8080/"
        },
        "id": "iqfZyAUmPjQQ",
        "outputId": "94d0980d-b144-42b6-f473-89c44eb62b43"
      },
      "execution_count": 4,
      "outputs": [
        {
          "output_type": "stream",
          "name": "stdout",
          "text": [
            "Downloading siim-medical-images.zip to /content\n",
            " 98% 246M/250M [00:01<00:00, 198MB/s]\n",
            "100% 250M/250M [00:01<00:00, 171MB/s]\n"
          ]
        }
      ]
    },
    {
      "cell_type": "code",
      "source": [
        "%%capture\n",
        "!unzip /content/siim-medical-images.zip"
      ],
      "metadata": {
        "id": "Tqa2UQaTQ_-Z"
      },
      "execution_count": 5,
      "outputs": []
    },
    {
      "cell_type": "code",
      "source": [
        "# ---\n",
        "# Custom datset to generate images and target age from DICOM files\n",
        "# ---\n",
        "class DICOMDataset(Dataset):\n",
        "  def __init__(self, root_dir, transform):\n",
        "    self.root_dir = root_dir\n",
        "    self.transform = transform\n",
        "    self.files = os.listdir(root_dir)\n",
        "\n",
        "  def __len__(self):\n",
        "    return len(self.files)\n",
        "\n",
        "  def __getitem__(self, idx):\n",
        "    if torch.is_tensor(idx):\n",
        "      idx = idx.tolist()\n",
        "\n",
        "    # Here, we convert the dicom files to images in our preferred form\n",
        "    img_name = os.path.join(self.root_dir, self.files[idx])\n",
        "    ds = pydicom.dcmread(img_name)\n",
        "    image = ds.pixel_array\n",
        "    image = Image.fromarray(image)\n",
        "\n",
        "    if image.mode != 'RGB':\n",
        "      image = image.convert('RGB')\n",
        "\n",
        "    image = self.transform(image)\n",
        "\n",
        "    # The age of each patient is given in the filename\n",
        "    # Here, we retrieve the age from the filename and use it as the target\n",
        "    # We need to see how to do this for the actual dataset\n",
        "    s = img_name.split('/')\n",
        "    s = s[-1]\n",
        "    s = s.split('_')\n",
        "    target = int(s[3])\n",
        "\n",
        "    return image, target\n"
      ],
      "metadata": {
        "id": "9OeOK4CLKlGa"
      },
      "execution_count": 6,
      "outputs": []
    },
    {
      "cell_type": "code",
      "source": [
        "path = '/content/dicom_dir'\n",
        "\n",
        "transform = transforms.Compose([\n",
        "    transforms.Resize((224, 224)),\n",
        "    transforms.ToTensor()\n",
        "])\n",
        "\n",
        "dataset = DICOMDataset(root_dir=path, transform=transform)"
      ],
      "metadata": {
        "id": "5ClvFtt-MwSQ"
      },
      "execution_count": 9,
      "outputs": []
    },
    {
      "cell_type": "code",
      "source": [
        "train_set, test_set = random_split(dataset, [0.8, 0.2])\n",
        "train_dataloader = DataLoader(train_set, batch_size=1, shuffle=True)\n",
        "test_dataloader = DataLoader(test_set, batch_size=1, shuffle=True)\n",
        "print(f\"Training set size: {len(train_set)}, Test set size: {len(test_set)}\")"
      ],
      "metadata": {
        "colab": {
          "base_uri": "https://localhost:8080/"
        },
        "id": "T8U9tAV5NOQf",
        "outputId": "8874aae3-eb00-4727-e429-283d028ae349"
      },
      "execution_count": 96,
      "outputs": [
        {
          "output_type": "stream",
          "name": "stdout",
          "text": [
            "Training set size: 80, Test set size: 20\n"
          ]
        }
      ]
    },
    {
      "cell_type": "code",
      "source": [
        "for X, y in train_dataloader:\n",
        "  print(f\"Input format: {X.shape}\")\n",
        "  print(f\"Target format: {y}\")\n",
        "  break"
      ],
      "metadata": {
        "colab": {
          "base_uri": "https://localhost:8080/"
        },
        "id": "iW5ZCSo4cSe5",
        "outputId": "573430b1-f8f9-4266-f3d4-6ad9b3ea1346"
      },
      "execution_count": 88,
      "outputs": [
        {
          "output_type": "stream",
          "name": "stdout",
          "text": [
            "Input format: torch.Size([1, 3, 224, 224])\n",
            "Target format: tensor([72])\n"
          ]
        }
      ]
    },
    {
      "cell_type": "code",
      "source": [
        "# --- Model Architecture ---\n",
        "#\n",
        "# CNN Model for age prediction task\n",
        "# Input: Tensors representing images\n",
        "# Output: Integer representing age\n",
        "#\n",
        "# We use a number of convolutional layers to downsample the images\n",
        "# Then we flatten the outputs from convolutional layers and run them\n",
        "# through a number of dense layers to finally get a single number as output\n",
        "#\n",
        "class CNN_model(nn.Module):\n",
        "  def __init__(self):\n",
        "    super().__init__()\n",
        "    self.img_size = 224\n",
        "    self.channels = 3\n",
        "    self.hidden_units = 16\n",
        "    self.convolutional_layer = nn.Sequential(\n",
        "        nn.Conv2d(in_channels=self.channels, out_channels=self.hidden_units, kernel_size=3, stride=2, padding=1),\n",
        "        nn.ReLU(),\n",
        "        nn.MaxPool2d(kernel_size=2, stride=2),\n",
        "        nn.Conv2d(in_channels=self.hidden_units, out_channels=self.hidden_units, kernel_size=3, stride=2, padding=1),\n",
        "        nn.ReLU(),\n",
        "        nn.MaxPool2d(kernel_size=2, stride=2)\n",
        "    )\n",
        "    self.dense_layer = nn.Sequential(\n",
        "        nn.Flatten(),\n",
        "        nn.Linear(in_features=self.hidden_units*14*14, out_features=256),\n",
        "        nn.ReLU(),\n",
        "        nn.Linear(in_features=256, out_features=32),\n",
        "        nn.ReLU(),\n",
        "        nn.Linear(in_features=32, out_features=1)\n",
        "    )\n",
        "\n",
        "  def forward(self, x):\n",
        "    x = self.convolutional_layer(x)\n",
        "    x = self.dense_layer(x)\n",
        "    return x\n",
        "\n",
        "model = CNN_model()"
      ],
      "metadata": {
        "id": "CwFZUrI_UlK1"
      },
      "execution_count": 103,
      "outputs": []
    },
    {
      "cell_type": "code",
      "source": [
        "# Training run\n",
        "num_epochs = 150\n",
        "loss_fn = nn.MSELoss()\n",
        "optimizer = optim.Adam(model.parameters(), lr=0.01)\n",
        "model.train()\n",
        "\n",
        "for epoch in range(num_epochs):\n",
        "  train_loss = 0\n",
        "  for X, y in train_dataloader:\n",
        "    target = y.clone().detach().view(-1, 1).float()\n",
        "    output = model(X)\n",
        "    loss = loss_fn(output, target)\n",
        "    train_loss += loss\n",
        "    optimizer.zero_grad()\n",
        "    loss.backward()\n",
        "    optimizer.step()\n",
        "  train_loss /= len(train_dataloader)\n",
        "  if (epoch + 1) % 10 == 0:\n",
        "    print(f\"Epoch: {epoch + 1}, Loss: {train_loss:.4f}\")"
      ],
      "metadata": {
        "colab": {
          "base_uri": "https://localhost:8080/"
        },
        "id": "27Yuz7YoUyXw",
        "outputId": "cd01b67c-e8f8-453a-b042-4d52a149d352"
      },
      "execution_count": 104,
      "outputs": [
        {
          "output_type": "stream",
          "name": "stdout",
          "text": [
            "Epoch: 10, Loss: 126.9956\n",
            "Epoch: 20, Loss: 101.3677\n",
            "Epoch: 30, Loss: 144.1414\n",
            "Epoch: 40, Loss: 86.1506\n",
            "Epoch: 50, Loss: 31.0108\n",
            "Epoch: 60, Loss: 14.3189\n",
            "Epoch: 70, Loss: 9.6694\n",
            "Epoch: 80, Loss: 9.3386\n",
            "Epoch: 90, Loss: 8.9831\n",
            "Epoch: 100, Loss: 5.3190\n",
            "Epoch: 110, Loss: 17.8799\n",
            "Epoch: 120, Loss: 4.6158\n",
            "Epoch: 130, Loss: 3.2613\n",
            "Epoch: 140, Loss: 2.0407\n",
            "Epoch: 150, Loss: 12.1292\n"
          ]
        }
      ]
    },
    {
      "cell_type": "code",
      "source": [
        "# Test run\n",
        "model.eval()\n",
        "test_loss = 0\n",
        "\n",
        "for X, y in test_dataloader:\n",
        "  target = y.clone().detach().view(-1, 1).float()\n",
        "  pred = model(X)\n",
        "  test_loss += loss_fn(pred, y)\n",
        "\n",
        "test_loss /= len(test_dataloader)\n",
        "print(f\"Final test loss: {test_loss}\")"
      ],
      "metadata": {
        "colab": {
          "base_uri": "https://localhost:8080/"
        },
        "id": "HbyvIhJ3pYWM",
        "outputId": "ad88dadf-19bc-4375-9aca-0aa45b800f2b"
      },
      "execution_count": 105,
      "outputs": [
        {
          "output_type": "stream",
          "name": "stdout",
          "text": [
            "Final test loss: 106.84370422363281\n"
          ]
        }
      ]
    },
    {
      "cell_type": "code",
      "source": [
        "# Looking at som predictions\n",
        "model.eval()\n",
        "for X, y in test_dataloader:\n",
        "  output = model(X)\n",
        "  print(f\"Prediction: {int(output.item())}, Correct: {y.item()}\")"
      ],
      "metadata": {
        "colab": {
          "base_uri": "https://localhost:8080/"
        },
        "id": "PUGABoNbolGQ",
        "outputId": "8220e5e7-9e18-49a2-be81-99fa3a53f73d"
      },
      "execution_count": 106,
      "outputs": [
        {
          "output_type": "stream",
          "name": "stdout",
          "text": [
            "Prediction: 56, Correct: 74\n",
            "Prediction: 66, Correct: 44\n",
            "Prediction: 55, Correct: 47\n",
            "Prediction: 65, Correct: 75\n",
            "Prediction: 57, Correct: 74\n",
            "Prediction: 62, Correct: 80\n",
            "Prediction: 60, Correct: 63\n",
            "Prediction: 71, Correct: 73\n",
            "Prediction: 64, Correct: 61\n",
            "Prediction: 67, Correct: 74\n",
            "Prediction: 70, Correct: 71\n",
            "Prediction: 57, Correct: 58\n",
            "Prediction: 67, Correct: 60\n",
            "Prediction: 61, Correct: 70\n",
            "Prediction: 63, Correct: 67\n",
            "Prediction: 61, Correct: 74\n",
            "Prediction: 68, Correct: 74\n",
            "Prediction: 64, Correct: 74\n",
            "Prediction: 58, Correct: 61\n",
            "Prediction: 66, Correct: 74\n"
          ]
        }
      ]
    },
    {
      "cell_type": "code",
      "source": [],
      "metadata": {
        "id": "qzLDIua1pUJp"
      },
      "execution_count": null,
      "outputs": []
    }
  ]
}