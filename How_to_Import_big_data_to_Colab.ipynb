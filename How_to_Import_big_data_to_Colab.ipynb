{
  "cells": [
    {
      "cell_type": "markdown",
      "metadata": {
        "id": "We2zhWnXqmdE"
      },
      "source": [
        "# (1) Mount Google Drive and Import files from Google Drive\n",
        "\n",
        "\n"
      ]
    },
    {
      "cell_type": "code",
      "execution_count": 1,
      "metadata": {
        "colab": {
          "base_uri": "https://localhost:8080/"
        },
        "id": "UT9zpV0_VO6W",
        "outputId": "acd8ae3c-1621-462b-83db-9b121af9ec21"
      },
      "outputs": [
        {
          "output_type": "stream",
          "name": "stdout",
          "text": [
            "  Preparing metadata (setup.py) ... \u001b[?25l\u001b[?25hdone\n",
            "  Building wheel for wget (setup.py) ... \u001b[?25l\u001b[?25hdone\n",
            "Mounted at /content/drive\n"
          ]
        }
      ],
      "source": [
        "!pip install -q kaggle\n",
        "!pip install -q wget\n",
        "import os\n",
        "from google.colab import drive\n",
        "import wget\n",
        "\n",
        "os.environ['KAGGLE_USERNAME'] = \"yuchaohw\" # username from the json file\n",
        "os.environ['KAGGLE_KEY'] = \"b2da0e812f1043ab9b96e24129037f36\" # key from the json file\n",
        "\n",
        "drive.mount('/content/drive')"
      ]
    },
    {
      "cell_type": "markdown",
      "metadata": {
        "id": "yoDert82Wsr3"
      },
      "source": [
        "...download csv files from Kaggle Competition...."
      ]
    },
    {
      "cell_type": "code",
      "execution_count": null,
      "metadata": {
        "id": "YskywHvqVIOM"
      },
      "outputs": [],
      "source": [
        "!kaggle competitions download -f test.csv -c spr-head-ct-age-prediction-challenge -p '/content/drive/My Drive/Kaggle_Proj'\n",
        "!kaggle competitions download -f test2_slicespacing.csv -c spr-head-ct-age-prediction-challenge -p '/content/drive/My Drive/Kaggle_Proj'\n",
        "!kaggle competitions download -f train.csv -c spr-head-ct-age-prediction-challenge -p '/content/drive/My Drive/Kaggle_Proj'\n",
        "!kaggle competitions download -f train_slicespacing.csv -c spr-head-ct-age-prediction-challenge -p '/content/drive/My Drive/Kaggle_Proj'"
      ]
    },
    {
      "cell_type": "markdown",
      "metadata": {
        "id": "dl_PWu7JWz6b"
      },
      "source": [
        "...download test data folders from Kaggle Competition...."
      ]
    },
    {
      "cell_type": "code",
      "execution_count": null,
      "metadata": {
        "colab": {
          "base_uri": "https://localhost:8080/",
          "height": 52
        },
        "id": "Em-j2Zo3Fd70",
        "outputId": "90940cc5-4066-414d-a571-88f55baaf040"
      },
      "outputs": [
        {
          "name": "stdout",
          "output_type": "stream",
          "text": [
            "Drive already mounted at /content/drive; to attempt to forcibly remount, call drive.mount(\"/content/drive\", force_remount=True).\n"
          ]
        },
        {
          "data": {
            "application/vnd.google.colaboratory.intrinsic+json": {
              "type": "string"
            },
            "text/plain": [
              "'/content/drive/My Drive/kaggle_Proj'"
            ]
          },
          "execution_count": 15,
          "metadata": {},
          "output_type": "execute_result"
        }
      ],
      "source": [
        "URL = \"https://storage.googleapis.com/kaggle-competitions-data/kaggle-v2/71447/8208918/compressed/dataset_jpr_test2.zip?GoogleAccessId=web-data@kaggle-161607.iam.gserviceaccount.com&Expires=1713603352&Signature=CJSTclk1vf4HKCYNIjxMuF5LcLxrqD5QIHoJgZu%2FyJkBh6vsYrDM4xmItSXT7RuUU2jToMAboN6pSh28qpvgHW%2FTskLzXDwFeAyqChUgnxJjFD2a%2BGaDVZFpXtll39bSZ86cNtU8km7KeANXaT4nSUDQ9tRDSQbqZPY2em9kC2Nu4Cv1pSomWdrno6MMwuh6S2GeBc7FH980S0Tl5TTz6HWtBOeyFQzDXA3Xm8aHNkSP4GjlbJI17FsCRJtOmXpmWrUshoVKqoxYDSGxmpDAcpjYo4EmiBsmrXwM9%2FDkgyHhIBxox%2B14fwyRxS%2FgT1FnKk7unGyrvLTfoUFEX6m58w%3D%3D&response-content-disposition=attachment%3B+filename%3Ddataset_jpr_test2.zip\"\n",
        "wget.download(URL, '/content/drive/My Drive/Kaggle_Proj/test_file')"
      ]
    },
    {
      "cell_type": "markdown",
      "source": [
        "...download training data folders from Kaggle Competition...."
      ],
      "metadata": {
        "id": "rKcccY2PBOrl"
      }
    },
    {
      "cell_type": "code",
      "source": [
        "URL = \"https://storage.googleapis.com/kaggle-competitions-data/kaggle-v2/71447/8208918/compressed/dataset_jpr_train.zip?GoogleAccessId=web-data@kaggle-161607.iam.gserviceaccount.com&Expires=1713616351&Signature=Q7kYPmUv8%2F9yW9%2Fe3wj6nVM2vPepDYcoDIxmLv6aUwMzDiwB0urMon%2FQ5g004XBoOqDIJgFtjxgjOQ4tcVe88IPO7Xk2GroTHxKdrBoRnqFxafgFdupcGvHnqiQMVx6LdtJNXL0OkKgtGz%2Brrb5uLIqPVVlkoTXR2TB5J46%2FAQtjrFrx3yD06zBhsGjVVrA2IC0aiOd6zodSsXUBaJ64WJ9Jdp1dMx7wQG9vTkhiOtM%2Bs8nK97%2BEpSprfyvxN%2BKdDrvOu1tVBjsqQgRbdI%2F1nubHnwnyOWYL4WzJxYdvPXRGlFtgfhPhlFJ5kDm%2B64QC7VeEoFSGQMOoWVbORuUZ9g%3D%3D&response-content-disposition=attachment%3B+filename%3Ddataset_jpr_train.zip\"\n",
        "wget.download(URL, '/content/drive/My Drive/Kaggle_Proj/train_file')"
      ],
      "metadata": {
        "id": "mLwg7LpYBKiV"
      },
      "execution_count": null,
      "outputs": []
    },
    {
      "cell_type": "markdown",
      "metadata": {
        "id": "1_d-23OUu3v9"
      },
      "source": [
        "# (2) Unzip the data"
      ]
    },
    {
      "cell_type": "markdown",
      "metadata": {
        "id": "aTtf5L4pUeFx"
      },
      "source": [
        "...Unzip the file...."
      ]
    },
    {
      "cell_type": "code",
      "source": [
        "%cd /content/drive/My Drive/Kaggle_Proj\n",
        "%ls"
      ],
      "metadata": {
        "colab": {
          "base_uri": "https://localhost:8080/"
        },
        "id": "CeHddS3roGLo",
        "outputId": "9cca62e9-434a-498c-a37e-515116ae2270"
      },
      "execution_count": 2,
      "outputs": [
        {
          "output_type": "stream",
          "name": "stdout",
          "text": [
            "/content/drive/My Drive/Kaggle_Proj\n",
            " \u001b[0m\u001b[01;34mdataset_jpr_test2\u001b[0m/                       submission2.csv              test_file.zip\n",
            "'How to Import big data to Colab.ipynb'   test2_slicespacing.csv.zip   train.csv\n",
            " kaggle.json                              test.csv                     train_slicespacing.csv.zip\n"
          ]
        }
      ]
    },
    {
      "cell_type": "code",
      "source": [
        "based_dir = \"/content/drive/My Drive/Kaggle_Proj/\"\n",
        "root_dir_list = [\"test2_slicespacing.csv.zip\", \"train_slicespacing.csv.zip\", \"test_file.zip\", \"train_file.zip\"]\n",
        "for root_dir in root_dir_list:\n",
        "  file_path = os.path.join(based_dir, root_dir)\n",
        "  print(file_path)\n",
        "  !unzip -u \"$file_path\" -d \"$based_dir\"\n",
        "  %rm \"$file_path\""
      ],
      "metadata": {
        "id": "UY3d7mSeNJRb",
        "colab": {
          "base_uri": "https://localhost:8080/"
        },
        "outputId": "4ab81d13-b98e-4bb0-8539-71feb94e5637"
      },
      "execution_count": 11,
      "outputs": [
        {
          "output_type": "stream",
          "name": "stdout",
          "text": [
            "/content/drive/My Drive/Kaggle_Proj/test2_slicespacing.csv.zip\n",
            "Archive:  /content/drive/My Drive/Kaggle_Proj/test2_slicespacing.csv.zip\n",
            "  inflating: /content/drive/My Drive/Kaggle_Proj/test2_slicespacing.csv  \n",
            "/content/drive/My Drive/Kaggle_Proj/train_slicespacing.csv.zip\n",
            "Archive:  /content/drive/My Drive/Kaggle_Proj/train_slicespacing.csv.zip\n",
            "  inflating: /content/drive/My Drive/Kaggle_Proj/train_slicespacing.csv  \n"
          ]
        }
      ]
    }
  ],
  "metadata": {
    "colab": {
      "provenance": []
    },
    "kernelspec": {
      "display_name": "Python 3",
      "name": "python3"
    },
    "language_info": {
      "name": "python"
    }
  },
  "nbformat": 4,
  "nbformat_minor": 0
}